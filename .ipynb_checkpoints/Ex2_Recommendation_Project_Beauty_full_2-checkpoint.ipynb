{
 "cells": [
  {
   "cell_type": "markdown",
   "metadata": {
    "id": "ENGd4pMCLvQr"
   },
   "source": [
    "# Chapter 12: Recommender System\n",
    "## Ex2: Beauty Recommendation"
   ]
  },
  {
   "cell_type": "markdown",
   "metadata": {
    "id": "fTDbmHuOLvQu"
   },
   "source": [
    "### Dataset: ratings_Beauty.csv\n",
    "####  Read more about dataset: http://jmcauley.ucsd.edu/data/amazon/\n",
    "### Requirement:\n",
    "- Read dataset\n",
    "- Pre-process data\n",
    "- Use \"reviewerID\", \"asin\" (ProductID), and overall (User's reviews for each product - rating) to build model to predict overalls => Give recommendation for users."
   ]
  },
  {
   "cell_type": "code",
   "execution_count": 1,
   "metadata": {
    "id": "cx2DDcCTMPUL"
   },
   "outputs": [],
   "source": [
    "import findspark\n",
    "findspark.init()"
   ]
  },
  {
   "cell_type": "code",
   "execution_count": 4,
   "metadata": {
    "id": "zQpxX6cWLvQv"
   },
   "outputs": [],
   "source": [
    "from pyspark.sql import SparkSession\n",
    "from pyspark import SparkContext\n",
    "from pyspark import SparkConf"
   ]
  },
  {
   "cell_type": "code",
   "execution_count": 5,
   "metadata": {
    "id": "V6F1Y8kJg-rd"
   },
   "outputs": [],
   "source": [
    "# RAM should be changed depends Master\n",
    "SparkContext.setSystemProperty('spark.executor.memory', '12g') \n",
    "\n",
    "# Change IP Spark Master\n",
    "sc = SparkContext(master='spark://172.25.51.23:7077', appName='Recommendation_Beauty') "
   ]
  },
  {
   "cell_type": "code",
   "execution_count": 6,
   "metadata": {
    "id": "epyAQHLMLvQv"
   },
   "outputs": [],
   "source": [
    "spark = SparkSession(sc)"
   ]
  },
  {
   "cell_type": "code",
   "execution_count": 7,
   "metadata": {
    "id": "Mbg57M_oL3gB"
   },
   "outputs": [],
   "source": [
    "# Change IP of HDFS Server\n",
    "data = spark.read.csv(\"hdfs://172.24.40.247:19000/ratings_Beauty.csv\")"
   ]
  },
  {
   "cell_type": "code",
   "execution_count": 8,
   "metadata": {
    "colab": {
     "base_uri": "https://localhost:8080/"
    },
    "executionInfo": {
     "elapsed": 7,
     "status": "ok",
     "timestamp": 1622449415505,
     "user": {
      "displayName": "Phuong Khuat Thuy",
      "photoUrl": "https://lh3.googleusercontent.com/a-/AOh14GgRoKUbK0wCx-zob_FuGThytT8MKkXvtSaX5ZDCXA=s64",
      "userId": "16807426118474640783"
     },
     "user_tz": -420
    },
    "id": "_w46ci6qLvQw",
    "outputId": "6f16bdb5-5937-4323-e6f2-a7167137be5a"
   },
   "outputs": [
    {
     "name": "stdout",
     "output_type": "stream",
     "text": [
      "+--------------+----------+---+----------+\n",
      "|           _c0|       _c1|_c2|       _c3|\n",
      "+--------------+----------+---+----------+\n",
      "|A39HTATAQ9V7YF|0205616461|5.0|1369699200|\n",
      "|A3JM6GV9MNOF9X|0558925278|3.0|1355443200|\n",
      "|A1Z513UWSAAO0F|0558925278|5.0|1404691200|\n",
      "|A1WMRR494NWEWV|0733001998|4.0|1382572800|\n",
      "|A3IAAVS479H7M7|0737104473|1.0|1274227200|\n",
      "+--------------+----------+---+----------+\n",
      "only showing top 5 rows\n",
      "\n"
     ]
    }
   ],
   "source": [
    "data.show(5, truncate=True)"
   ]
  },
  {
   "cell_type": "code",
   "execution_count": 9,
   "metadata": {
    "id": "_dphqo3RLvQx"
   },
   "outputs": [],
   "source": [
    "data_sub = data.select(['_c0', '_c1', '_c2'])"
   ]
  },
  {
   "cell_type": "code",
   "execution_count": 10,
   "metadata": {
    "colab": {
     "base_uri": "https://localhost:8080/"
    },
    "executionInfo": {
     "elapsed": 26363,
     "status": "ok",
     "timestamp": 1622449441864,
     "user": {
      "displayName": "Phuong Khuat Thuy",
      "photoUrl": "https://lh3.googleusercontent.com/a-/AOh14GgRoKUbK0wCx-zob_FuGThytT8MKkXvtSaX5ZDCXA=s64",
      "userId": "16807426118474640783"
     },
     "user_tz": -420
    },
    "id": "luIqOoCnLvQx",
    "outputId": "b9ce5c92-b65e-43d3-a620-35fe712dc120"
   },
   "outputs": [
    {
     "data": {
      "text/plain": [
       "2023070"
      ]
     },
     "execution_count": 10,
     "metadata": {},
     "output_type": "execute_result"
    }
   ],
   "source": [
    "data_sub.count()"
   ]
  },
  {
   "cell_type": "code",
   "execution_count": 11,
   "metadata": {
    "colab": {
     "base_uri": "https://localhost:8080/"
    },
    "executionInfo": {
     "elapsed": 17,
     "status": "ok",
     "timestamp": 1622449441865,
     "user": {
      "displayName": "Phuong Khuat Thuy",
      "photoUrl": "https://lh3.googleusercontent.com/a-/AOh14GgRoKUbK0wCx-zob_FuGThytT8MKkXvtSaX5ZDCXA=s64",
      "userId": "16807426118474640783"
     },
     "user_tz": -420
    },
    "id": "OzWgSvmOWatd",
    "outputId": "85a65579-92ff-44ad-c3d5-ec450105c2a3"
   },
   "outputs": [
    {
     "name": "stdout",
     "output_type": "stream",
     "text": [
      "+--------------+----------+---+\n",
      "|           _c0|       _c1|_c2|\n",
      "+--------------+----------+---+\n",
      "|A39HTATAQ9V7YF|0205616461|5.0|\n",
      "|A3JM6GV9MNOF9X|0558925278|3.0|\n",
      "|A1Z513UWSAAO0F|0558925278|5.0|\n",
      "|A1WMRR494NWEWV|0733001998|4.0|\n",
      "|A3IAAVS479H7M7|0737104473|1.0|\n",
      "+--------------+----------+---+\n",
      "only showing top 5 rows\n",
      "\n"
     ]
    }
   ],
   "source": [
    "data_sub.show(5, truncate=True)"
   ]
  },
  {
   "cell_type": "code",
   "execution_count": 12,
   "metadata": {
    "id": "4-cqk94BWRiW"
   },
   "outputs": [],
   "source": [
    "# reviewerID, asin, overall"
   ]
  },
  {
   "cell_type": "code",
   "execution_count": 13,
   "metadata": {
    "id": "jrtzgK_kWuL9"
   },
   "outputs": [],
   "source": [
    "data_sub = data_sub.withColumnRenamed(\"_c0\", \"reviewerID\")\\\n",
    "       .withColumnRenamed(\"_c1\", \"asin\")\\\n",
    "       .withColumnRenamed(\"_c2\", \"overall\")"
   ]
  },
  {
   "cell_type": "code",
   "execution_count": 14,
   "metadata": {
    "id": "fU16GJDsLvQx"
   },
   "outputs": [],
   "source": [
    "from pyspark.sql.types import DoubleType\n",
    "from pyspark.sql.functions import isnan, when, count, col, udf"
   ]
  },
  {
   "cell_type": "code",
   "execution_count": 15,
   "metadata": {
    "colab": {
     "base_uri": "https://localhost:8080/"
    },
    "executionInfo": {
     "elapsed": 1341,
     "status": "ok",
     "timestamp": 1622449457635,
     "user": {
      "displayName": "Phuong Khuat Thuy",
      "photoUrl": "https://lh3.googleusercontent.com/a-/AOh14GgRoKUbK0wCx-zob_FuGThytT8MKkXvtSaX5ZDCXA=s64",
      "userId": "16807426118474640783"
     },
     "user_tz": -420
    },
    "id": "srt4GIbKLvQy",
    "outputId": "476537bd-e97a-4a3f-b235-b821e76d921c"
   },
   "outputs": [
    {
     "name": "stdout",
     "output_type": "stream",
     "text": [
      "+--------------+----------+-------+\n",
      "|    reviewerID|      asin|overall|\n",
      "+--------------+----------+-------+\n",
      "|A39HTATAQ9V7YF|0205616461|    5.0|\n",
      "|A3JM6GV9MNOF9X|0558925278|    3.0|\n",
      "|A1Z513UWSAAO0F|0558925278|    5.0|\n",
      "|A1WMRR494NWEWV|0733001998|    4.0|\n",
      "|A3IAAVS479H7M7|0737104473|    1.0|\n",
      "+--------------+----------+-------+\n",
      "only showing top 5 rows\n",
      "\n"
     ]
    }
   ],
   "source": [
    "data_sub.show(5, truncate=True)"
   ]
  },
  {
   "cell_type": "code",
   "execution_count": 16,
   "metadata": {
    "colab": {
     "base_uri": "https://localhost:8080/"
    },
    "executionInfo": {
     "elapsed": 1695,
     "status": "ok",
     "timestamp": 1622449471761,
     "user": {
      "displayName": "Phuong Khuat Thuy",
      "photoUrl": "https://lh3.googleusercontent.com/a-/AOh14GgRoKUbK0wCx-zob_FuGThytT8MKkXvtSaX5ZDCXA=s64",
      "userId": "16807426118474640783"
     },
     "user_tz": -420
    },
    "id": "ZBMiLq0EazDO",
    "outputId": "19a76c6e-187d-4397-b346-a9ee8b435b3d"
   },
   "outputs": [
    {
     "name": "stdout",
     "output_type": "stream",
     "text": [
      "root\n",
      " |-- reviewerID: string (nullable = true)\n",
      " |-- asin: string (nullable = true)\n",
      " |-- overall: string (nullable = true)\n",
      "\n"
     ]
    }
   ],
   "source": [
    "data_sub.printSchema()"
   ]
  },
  {
   "cell_type": "code",
   "execution_count": 17,
   "metadata": {
    "id": "Le767MibcIOf"
   },
   "outputs": [],
   "source": [
    "data_sub = data_sub.withColumn(\"overall\", data_sub[\"overall\"].cast(DoubleType()))"
   ]
  },
  {
   "cell_type": "code",
   "execution_count": 18,
   "metadata": {
    "colab": {
     "base_uri": "https://localhost:8080/"
    },
    "executionInfo": {
     "elapsed": 10,
     "status": "ok",
     "timestamp": 1622449474877,
     "user": {
      "displayName": "Phuong Khuat Thuy",
      "photoUrl": "https://lh3.googleusercontent.com/a-/AOh14GgRoKUbK0wCx-zob_FuGThytT8MKkXvtSaX5ZDCXA=s64",
      "userId": "16807426118474640783"
     },
     "user_tz": -420
    },
    "id": "LjPzywiIc_pW",
    "outputId": "752eab03-3615-4b78-efaa-b03f8dd4f2cd"
   },
   "outputs": [
    {
     "name": "stdout",
     "output_type": "stream",
     "text": [
      "root\n",
      " |-- reviewerID: string (nullable = true)\n",
      " |-- asin: string (nullable = true)\n",
      " |-- overall: double (nullable = true)\n",
      "\n"
     ]
    }
   ],
   "source": [
    "data_sub.printSchema()"
   ]
  },
  {
   "cell_type": "code",
   "execution_count": 19,
   "metadata": {
    "colab": {
     "base_uri": "https://localhost:8080/",
     "height": 136
    },
    "executionInfo": {
     "elapsed": 28694,
     "status": "ok",
     "timestamp": 1622449507933,
     "user": {
      "displayName": "Phuong Khuat Thuy",
      "photoUrl": "https://lh3.googleusercontent.com/a-/AOh14GgRoKUbK0wCx-zob_FuGThytT8MKkXvtSaX5ZDCXA=s64",
      "userId": "16807426118474640783"
     },
     "user_tz": -420
    },
    "id": "Ps2hBU_LLvQy",
    "outputId": "d9df041f-09bf-45c1-9190-de373c09c87b"
   },
   "outputs": [
    {
     "data": {
      "text/html": [
       "<div>\n",
       "<style scoped>\n",
       "    .dataframe tbody tr th:only-of-type {\n",
       "        vertical-align: middle;\n",
       "    }\n",
       "\n",
       "    .dataframe tbody tr th {\n",
       "        vertical-align: top;\n",
       "    }\n",
       "\n",
       "    .dataframe thead th {\n",
       "        text-align: right;\n",
       "    }\n",
       "</style>\n",
       "<table border=\"1\" class=\"dataframe\">\n",
       "  <thead>\n",
       "    <tr style=\"text-align: right;\">\n",
       "      <th></th>\n",
       "      <th>0</th>\n",
       "    </tr>\n",
       "  </thead>\n",
       "  <tbody>\n",
       "    <tr>\n",
       "      <th>reviewerID</th>\n",
       "      <td>0</td>\n",
       "    </tr>\n",
       "    <tr>\n",
       "      <th>asin</th>\n",
       "      <td>0</td>\n",
       "    </tr>\n",
       "    <tr>\n",
       "      <th>overall</th>\n",
       "      <td>0</td>\n",
       "    </tr>\n",
       "  </tbody>\n",
       "</table>\n",
       "</div>"
      ],
      "text/plain": [
       "            0\n",
       "reviewerID  0\n",
       "asin        0\n",
       "overall     0"
      ]
     },
     "execution_count": 19,
     "metadata": {},
     "output_type": "execute_result"
    }
   ],
   "source": [
    "data_sub.select([count(when(col(c).isNull(), c)).alias(c) for c in \n",
    "           data_sub.columns]).toPandas().T"
   ]
  },
  {
   "cell_type": "code",
   "execution_count": 20,
   "metadata": {
    "id": "9Nd5NbkALvQy"
   },
   "outputs": [],
   "source": [
    "# Distinct users and movies\n",
    "users = data_sub.select(\"reviewerID\").distinct().count()\n",
    "products = data_sub.select(\"asin\").distinct().count()\n",
    "numerator = data_sub.count()"
   ]
  },
  {
   "cell_type": "code",
   "execution_count": 21,
   "metadata": {
    "colab": {
     "base_uri": "https://localhost:8080/",
     "height": 67
    },
    "executionInfo": {
     "elapsed": 23,
     "status": "ok",
     "timestamp": 1622449548573,
     "user": {
      "displayName": "Phuong Khuat Thuy",
      "photoUrl": "https://lh3.googleusercontent.com/a-/AOh14GgRoKUbK0wCx-zob_FuGThytT8MKkXvtSaX5ZDCXA=s64",
      "userId": "16807426118474640783"
     },
     "user_tz": -420
    },
    "id": "p39W-IECLvQy",
    "outputId": "ab981822-023a-48bc-a770-9a27c3cdf525"
   },
   "outputs": [
    {
     "data": {
      "text/plain": [
       "2023070"
      ]
     },
     "metadata": {},
     "output_type": "display_data"
    },
    {
     "data": {
      "text/plain": [
       "1210271"
      ]
     },
     "metadata": {},
     "output_type": "display_data"
    },
    {
     "data": {
      "text/plain": [
       "249274"
      ]
     },
     "metadata": {},
     "output_type": "display_data"
    }
   ],
   "source": [
    "display(numerator, users, products)"
   ]
  },
  {
   "cell_type": "code",
   "execution_count": 22,
   "metadata": {
    "colab": {
     "base_uri": "https://localhost:8080/"
    },
    "executionInfo": {
     "elapsed": 15,
     "status": "ok",
     "timestamp": 1622449548574,
     "user": {
      "displayName": "Phuong Khuat Thuy",
      "photoUrl": "https://lh3.googleusercontent.com/a-/AOh14GgRoKUbK0wCx-zob_FuGThytT8MKkXvtSaX5ZDCXA=s64",
      "userId": "16807426118474640783"
     },
     "user_tz": -420
    },
    "id": "xg86iQisLvQz",
    "outputId": "ab57b0e1-67c6-49df-c340-9464e8f38a65"
   },
   "outputs": [
    {
     "data": {
      "text/plain": [
       "301689093254"
      ]
     },
     "execution_count": 22,
     "metadata": {},
     "output_type": "execute_result"
    }
   ],
   "source": [
    "# Number of ratings matrix could contain if no empty cells\n",
    "denominator = users * products\n",
    "denominator"
   ]
  },
  {
   "cell_type": "code",
   "execution_count": 23,
   "metadata": {
    "colab": {
     "base_uri": "https://localhost:8080/"
    },
    "executionInfo": {
     "elapsed": 13,
     "status": "ok",
     "timestamp": 1622449548575,
     "user": {
      "displayName": "Phuong Khuat Thuy",
      "photoUrl": "https://lh3.googleusercontent.com/a-/AOh14GgRoKUbK0wCx-zob_FuGThytT8MKkXvtSaX5ZDCXA=s64",
      "userId": "16807426118474640783"
     },
     "user_tz": -420
    },
    "id": "KpJvoNx4LvQz",
    "outputId": "97685a10-67e7-4883-e9eb-c962c11997f8"
   },
   "outputs": [
    {
     "name": "stdout",
     "output_type": "stream",
     "text": [
      "Sparsity: \n"
     ]
    },
    {
     "data": {
      "text/plain": [
       "(None, 0.999993294189133)"
      ]
     },
     "execution_count": 23,
     "metadata": {},
     "output_type": "execute_result"
    }
   ],
   "source": [
    "#Calculating sparsity\n",
    "sparsity = 1 - (numerator*1.0 / denominator)\n",
    "print (\"Sparsity: \"), sparsity"
   ]
  },
  {
   "cell_type": "code",
   "execution_count": 24,
   "metadata": {
    "id": "pf185zgALvQz"
   },
   "outputs": [],
   "source": [
    "from pyspark.ml.evaluation import RegressionEvaluator\n",
    "from pyspark.ml.recommendation import ALS"
   ]
  },
  {
   "cell_type": "code",
   "execution_count": 25,
   "metadata": {
    "id": "h2KzytODLvQ0"
   },
   "outputs": [],
   "source": [
    "# Converting String to index\n",
    "from pyspark.ml.feature import StringIndexer\n",
    "from pyspark.ml import Pipeline"
   ]
  },
  {
   "cell_type": "code",
   "execution_count": 26,
   "metadata": {
    "id": "WfeD4KvxLvQ0"
   },
   "outputs": [],
   "source": [
    "# Create an indexer\n",
    "indexer = StringIndexer(inputCol='asin', \n",
    "                        outputCol='asin_idx')\n",
    "\n",
    "# Indexer identifies categories in the data\n",
    "indexer_model = indexer.fit(data_sub)\n",
    "\n",
    "# Indexer creates a new column with numeric index values\n",
    "data_indexed = indexer_model.transform(data_sub)\n",
    "\n",
    "# Repeat the process for the other categorical feature\n",
    "indexer1 = StringIndexer(inputCol='reviewerID', \n",
    "                         outputCol='reviewerID_idx')\n",
    "indexer1_model = indexer1.fit(data_indexed)\n",
    "data_indexed = indexer1_model.transform(data_indexed)"
   ]
  },
  {
   "cell_type": "code",
   "execution_count": 27,
   "metadata": {
    "colab": {
     "base_uri": "https://localhost:8080/"
    },
    "executionInfo": {
     "elapsed": 7423,
     "status": "ok",
     "timestamp": 1622449593072,
     "user": {
      "displayName": "Phuong Khuat Thuy",
      "photoUrl": "https://lh3.googleusercontent.com/a-/AOh14GgRoKUbK0wCx-zob_FuGThytT8MKkXvtSaX5ZDCXA=s64",
      "userId": "16807426118474640783"
     },
     "user_tz": -420
    },
    "id": "34ubYJHeLvQ0",
    "outputId": "a3ee185f-7729-4ed9-9d4f-224596a5e28c"
   },
   "outputs": [
    {
     "name": "stdout",
     "output_type": "stream",
     "text": [
      "+--------------+----------+-------+--------+--------------+\n",
      "|    reviewerID|      asin|overall|asin_idx|reviewerID_idx|\n",
      "+--------------+----------+-------+--------+--------------+\n",
      "|A39HTATAQ9V7YF|0205616461|    5.0|145790.0|       70392.0|\n",
      "|A3JM6GV9MNOF9X|0558925278|    3.0|103581.0|      265306.0|\n",
      "|A1Z513UWSAAO0F|0558925278|    5.0|103581.0|      552933.0|\n",
      "|A1WMRR494NWEWV|0733001998|    4.0|145791.0|      536779.0|\n",
      "|A3IAAVS479H7M7|0737104473|    1.0|145792.0|       14679.0|\n",
      "+--------------+----------+-------+--------+--------------+\n",
      "only showing top 5 rows\n",
      "\n"
     ]
    }
   ],
   "source": [
    "data_indexed.show(5, truncate=True)"
   ]
  },
  {
   "cell_type": "code",
   "execution_count": 28,
   "metadata": {
    "colab": {
     "base_uri": "https://localhost:8080/"
    },
    "executionInfo": {
     "elapsed": 12,
     "status": "ok",
     "timestamp": 1622449593073,
     "user": {
      "displayName": "Phuong Khuat Thuy",
      "photoUrl": "https://lh3.googleusercontent.com/a-/AOh14GgRoKUbK0wCx-zob_FuGThytT8MKkXvtSaX5ZDCXA=s64",
      "userId": "16807426118474640783"
     },
     "user_tz": -420
    },
    "id": "qLiGmeGialgA",
    "outputId": "d534cb2c-3fd4-4c51-f506-9c7b82e774b0"
   },
   "outputs": [
    {
     "name": "stdout",
     "output_type": "stream",
     "text": [
      "root\n",
      " |-- reviewerID: string (nullable = true)\n",
      " |-- asin: string (nullable = true)\n",
      " |-- overall: double (nullable = true)\n",
      " |-- asin_idx: double (nullable = false)\n",
      " |-- reviewerID_idx: double (nullable = false)\n",
      "\n"
     ]
    }
   ],
   "source": [
    "data_indexed.printSchema()"
   ]
  },
  {
   "cell_type": "code",
   "execution_count": 29,
   "metadata": {
    "colab": {
     "base_uri": "https://localhost:8080/",
     "height": 195
    },
    "executionInfo": {
     "elapsed": 29430,
     "status": "ok",
     "timestamp": 1622449622493,
     "user": {
      "displayName": "Phuong Khuat Thuy",
      "photoUrl": "https://lh3.googleusercontent.com/a-/AOh14GgRoKUbK0wCx-zob_FuGThytT8MKkXvtSaX5ZDCXA=s64",
      "userId": "16807426118474640783"
     },
     "user_tz": -420
    },
    "id": "PMcwvsPVLvQ0",
    "outputId": "1b196543-6072-4211-c5b4-ebbc993d9192"
   },
   "outputs": [
    {
     "data": {
      "text/html": [
       "<div>\n",
       "<style scoped>\n",
       "    .dataframe tbody tr th:only-of-type {\n",
       "        vertical-align: middle;\n",
       "    }\n",
       "\n",
       "    .dataframe tbody tr th {\n",
       "        vertical-align: top;\n",
       "    }\n",
       "\n",
       "    .dataframe thead th {\n",
       "        text-align: right;\n",
       "    }\n",
       "</style>\n",
       "<table border=\"1\" class=\"dataframe\">\n",
       "  <thead>\n",
       "    <tr style=\"text-align: right;\">\n",
       "      <th></th>\n",
       "      <th>0</th>\n",
       "    </tr>\n",
       "  </thead>\n",
       "  <tbody>\n",
       "    <tr>\n",
       "      <th>reviewerID</th>\n",
       "      <td>0</td>\n",
       "    </tr>\n",
       "    <tr>\n",
       "      <th>asin</th>\n",
       "      <td>0</td>\n",
       "    </tr>\n",
       "    <tr>\n",
       "      <th>overall</th>\n",
       "      <td>0</td>\n",
       "    </tr>\n",
       "    <tr>\n",
       "      <th>asin_idx</th>\n",
       "      <td>0</td>\n",
       "    </tr>\n",
       "    <tr>\n",
       "      <th>reviewerID_idx</th>\n",
       "      <td>0</td>\n",
       "    </tr>\n",
       "  </tbody>\n",
       "</table>\n",
       "</div>"
      ],
      "text/plain": [
       "                0\n",
       "reviewerID      0\n",
       "asin            0\n",
       "overall         0\n",
       "asin_idx        0\n",
       "reviewerID_idx  0"
      ]
     },
     "execution_count": 29,
     "metadata": {},
     "output_type": "execute_result"
    }
   ],
   "source": [
    "data_indexed.select([count(when(col(c).isNull(), c)).alias(c) for c in \n",
    "           data_indexed.columns]).toPandas().T"
   ]
  },
  {
   "cell_type": "code",
   "execution_count": 30,
   "metadata": {
    "id": "6VCQvlJILvQ1"
   },
   "outputs": [],
   "source": [
    "# Smaller dataset so we will use 0.8 / 0.2\n",
    "(training, test) = data_indexed.randomSplit([0.8, 0.2])"
   ]
  },
  {
   "cell_type": "code",
   "execution_count": 31,
   "metadata": {
    "id": "SGb_ToqMLvQ1"
   },
   "outputs": [],
   "source": [
    "# Creating ALS model and fitting data\n",
    "from pyspark.ml.evaluation import RegressionEvaluator\n",
    "from pyspark.ml.recommendation import ALS\n",
    "from time import time"
   ]
  },
  {
   "cell_type": "code",
   "execution_count": 32,
   "metadata": {
    "id": "a9kkVL28LvQ1"
   },
   "outputs": [],
   "source": [
    "t0 = time()\n",
    "als = ALS(maxIter=10, \n",
    "          regParam=0.09,           \n",
    "          rank = 25,\n",
    "          userCol=\"reviewerID_idx\", \n",
    "          itemCol=\"asin_idx\", \n",
    "          ratingCol=\"overall\", \n",
    "          coldStartStrategy=\"drop\",\n",
    "          nonnegative=True)\n",
    "model = als.fit(training)\n",
    "t1 = time()"
   ]
  },
  {
   "cell_type": "code",
   "execution_count": 33,
   "metadata": {
    "id": "Y6u3NgvRY0RY"
   },
   "outputs": [],
   "source": [
    "total_time = t1 - t0"
   ]
  },
  {
   "cell_type": "code",
   "execution_count": 34,
   "metadata": {
    "colab": {
     "base_uri": "https://localhost:8080/"
    },
    "executionInfo": {
     "elapsed": 10,
     "status": "ok",
     "timestamp": 1622450512972,
     "user": {
      "displayName": "Phuong Khuat Thuy",
      "photoUrl": "https://lh3.googleusercontent.com/a-/AOh14GgRoKUbK0wCx-zob_FuGThytT8MKkXvtSaX5ZDCXA=s64",
      "userId": "16807426118474640783"
     },
     "user_tz": -420
    },
    "id": "CCdPz1VXY5nI",
    "outputId": "deae753a-e0d9-4889-b398-5cd2d893cb97"
   },
   "outputs": [
    {
     "data": {
      "text/plain": [
       "457.0389144420624"
      ]
     },
     "execution_count": 34,
     "metadata": {},
     "output_type": "execute_result"
    }
   ],
   "source": [
    "total_time"
   ]
  },
  {
   "cell_type": "code",
   "execution_count": 35,
   "metadata": {
    "id": "fFbQMGLjLvQ2"
   },
   "outputs": [],
   "source": [
    "# Evaluate the model by computing the RMSE on the test data\n",
    "predictions = model.transform(test)"
   ]
  },
  {
   "cell_type": "code",
   "execution_count": 36,
   "metadata": {
    "colab": {
     "base_uri": "https://localhost:8080/"
    },
    "executionInfo": {
     "elapsed": 691939,
     "status": "ok",
     "timestamp": 1622451217344,
     "user": {
      "displayName": "Phuong Khuat Thuy",
      "photoUrl": "https://lh3.googleusercontent.com/a-/AOh14GgRoKUbK0wCx-zob_FuGThytT8MKkXvtSaX5ZDCXA=s64",
      "userId": "16807426118474640783"
     },
     "user_tz": -420
    },
    "id": "Mqxk_gpnLvQ2",
    "outputId": "7fef6bb1-6fc5-4bcf-d9c8-9e49d5c6022d"
   },
   "outputs": [
    {
     "name": "stdout",
     "output_type": "stream",
     "text": [
      "+--------------+----------+-------+--------+--------------+----------+\n",
      "|    reviewerID|      asin|overall|asin_idx|reviewerID_idx|prediction|\n",
      "+--------------+----------+-------+--------+--------------+----------+\n",
      "|A18K6042A1DZMB|B001TJXI5U|    5.0|   148.0|        2563.0|  3.454518|\n",
      "|A1VJ6OQQNKOGS1|B001TJXI5U|    5.0|   148.0|        6396.0|  4.119822|\n",
      "| A9A7OP15VV1HH|B001TJXI5U|    5.0|   148.0|      288452.0| 1.3730983|\n",
      "+--------------+----------+-------+--------+--------------+----------+\n",
      "only showing top 3 rows\n",
      "\n"
     ]
    }
   ],
   "source": [
    "predictions.show(3)"
   ]
  },
  {
   "cell_type": "code",
   "execution_count": 37,
   "metadata": {
    "id": "_i5-ev7pLvQ2"
   },
   "outputs": [],
   "source": [
    "evaluator = RegressionEvaluator(metricName=\"rmse\", \n",
    "                                labelCol=\"overall\",\n",
    "                                predictionCol=\"prediction\")\n",
    "rmse = evaluator.evaluate(predictions)"
   ]
  },
  {
   "cell_type": "code",
   "execution_count": 38,
   "metadata": {
    "id": "IWvGhxdwONcQ"
   },
   "outputs": [
    {
     "name": "stdout",
     "output_type": "stream",
     "text": [
      "Root-mean-square error = 1.826794010926713\n"
     ]
    }
   ],
   "source": [
    "print(\"Root-mean-square error = \" + str(rmse))"
   ]
  },
  {
   "cell_type": "code",
   "execution_count": 39,
   "metadata": {
    "id": "ObYqxuqsLvQ3"
   },
   "outputs": [],
   "source": [
    "# On average, this model is ~ 1.2 from perfect recommendations."
   ]
  },
  {
   "cell_type": "code",
   "execution_count": 41,
   "metadata": {
    "id": "FkGft54MmO85"
   },
   "outputs": [],
   "source": [
    "# Thay đổi địa chỉ IP của HDFS Server\n",
    "model.save(\"hdfs://172.24.40.247:19000/Beauty_model_1\")"
   ]
  },
  {
   "cell_type": "markdown",
   "metadata": {
    "id": "CUj6LH3ZLvQ3"
   },
   "source": [
    "### Providing Recommendations: for all users"
   ]
  },
  {
   "cell_type": "code",
   "execution_count": 42,
   "metadata": {
    "id": "Ea1ZDGB1LvQ3"
   },
   "outputs": [],
   "source": [
    "# get 5 recommendations which have highest rating.\n",
    "user_recs = model.recommendForAllUsers(5) "
   ]
  },
  {
   "cell_type": "code",
   "execution_count": 43,
   "metadata": {
    "id": "OqYkizks8zCk"
   },
   "outputs": [
    {
     "name": "stdout",
     "output_type": "stream",
     "text": [
      "+--------------+------------------------------------------------------------------------------------------------------+\n",
      "|reviewerID_idx|recommendations                                                                                       |\n",
      "+--------------+------------------------------------------------------------------------------------------------------+\n",
      "|148           |[{170096, 6.713969}, {58816, 6.5644584}, {99440, 6.531107}, {67337, 6.4514675}, {44910, 6.430691}]    |\n",
      "|463           |[{64728, 7.0804825}, {128575, 6.9111643}, {65569, 6.8374567}, {101861, 6.7879744}, {95768, 6.7163925}]|\n",
      "|471           |[{63851, 6.493028}, {46354, 6.4782224}, {62057, 6.3898325}, {132675, 6.315345}, {66484, 6.2931895}]   |\n",
      "|496           |[{35186, 7.5983624}, {88181, 7.5334196}, {65299, 7.497033}, {25761, 7.4778576}, {208458, 7.4149003}]  |\n",
      "|833           |[{68433, 7.875903}, {122648, 7.8294396}, {100351, 7.80609}, {71701, 7.7720633}, {85901, 7.76516}]     |\n",
      "+--------------+------------------------------------------------------------------------------------------------------+\n",
      "only showing top 5 rows\n",
      "\n"
     ]
    }
   ],
   "source": [
    "user_recs.show(5, truncate=False)"
   ]
  },
  {
   "cell_type": "code",
   "execution_count": 44,
   "metadata": {
    "id": "T__A19jL83B7"
   },
   "outputs": [
    {
     "data": {
      "text/plain": [
       "1025426"
      ]
     },
     "execution_count": 44,
     "metadata": {},
     "output_type": "execute_result"
    }
   ],
   "source": [
    "user_recs.count()"
   ]
  },
  {
   "cell_type": "code",
   "execution_count": 45,
   "metadata": {
    "id": "E0jSI5f7LvQ4"
   },
   "outputs": [
    {
     "name": "stdout",
     "output_type": "stream",
     "text": [
      "Row(reviewerID_idx=148, recommendations=[Row(asin_idx=170096, rating=6.7139692306518555), Row(asin_idx=58816, rating=6.56445837020874), Row(asin_idx=99440, rating=6.531106948852539), Row(asin_idx=67337, rating=6.451467514038086), Row(asin_idx=44910, rating=6.430690765380859)])\n",
      "\n",
      "\n",
      "Row(reviewerID_idx=463, recommendations=[Row(asin_idx=64728, rating=7.080482482910156), Row(asin_idx=128575, rating=6.911164283752441), Row(asin_idx=65569, rating=6.837456703186035), Row(asin_idx=101861, rating=6.7879743576049805), Row(asin_idx=95768, rating=6.716392517089844)])\n",
      "\n",
      "\n",
      "Row(reviewerID_idx=471, recommendations=[Row(asin_idx=63851, rating=6.493028163909912), Row(asin_idx=46354, rating=6.478222370147705), Row(asin_idx=62057, rating=6.389832496643066), Row(asin_idx=132675, rating=6.31534481048584), Row(asin_idx=66484, rating=6.293189525604248)])\n",
      "\n",
      "\n",
      "Row(reviewerID_idx=496, recommendations=[Row(asin_idx=35186, rating=7.598362445831299), Row(asin_idx=88181, rating=7.533419609069824), Row(asin_idx=65299, rating=7.49703311920166), Row(asin_idx=25761, rating=7.47785758972168), Row(asin_idx=208458, rating=7.414900302886963)])\n",
      "\n",
      "\n",
      "Row(reviewerID_idx=833, recommendations=[Row(asin_idx=68433, rating=7.875903129577637), Row(asin_idx=122648, rating=7.829439640045166), Row(asin_idx=100351, rating=7.806089878082275), Row(asin_idx=71701, rating=7.772063255310059), Row(asin_idx=85901, rating=7.765160083770752)])\n",
      "\n",
      "\n"
     ]
    }
   ],
   "source": [
    "for user in user_recs.head(5):\n",
    "    print(user)\n",
    "    print(\"\\n\")"
   ]
  },
  {
   "cell_type": "markdown",
   "metadata": {
    "id": "CwiHoINnLvQ4"
   },
   "source": [
    "### Converting back to string form"
   ]
  },
  {
   "cell_type": "code",
   "execution_count": 46,
   "metadata": {
    "id": "G9PtRp0I-S7G"
   },
   "outputs": [],
   "source": [
    "t0 = time()"
   ]
  },
  {
   "cell_type": "code",
   "execution_count": 47,
   "metadata": {
    "id": "wddIGte_8_S8"
   },
   "outputs": [],
   "source": [
    "df_reviewer_reviewer_id = data_indexed.select('reviewerID_idx', 'reviewerID').distinct()"
   ]
  },
  {
   "cell_type": "code",
   "execution_count": 48,
   "metadata": {
    "id": "8ShnJWua9Cv0"
   },
   "outputs": [
    {
     "data": {
      "text/plain": [
       "1210271"
      ]
     },
     "execution_count": 48,
     "metadata": {},
     "output_type": "execute_result"
    }
   ],
   "source": [
    "df_reviewer_reviewer_id.count()"
   ]
  },
  {
   "cell_type": "code",
   "execution_count": 49,
   "metadata": {
    "id": "l7CXIXaG9E9E"
   },
   "outputs": [
    {
     "name": "stdout",
     "output_type": "stream",
     "text": [
      "+--------------+--------------+\n",
      "|reviewerID_idx|    reviewerID|\n",
      "+--------------+--------------+\n",
      "|     1099573.0| AIZ6C15NC0P8Q|\n",
      "|        5789.0|A37ITFQMWUSVU8|\n",
      "|      183788.0|A1SHFWWZQJEZVM|\n",
      "|      306399.0| AN7PFLY2LOV41|\n",
      "|      212749.0|A2EZTXR3AN3WK8|\n",
      "+--------------+--------------+\n",
      "only showing top 5 rows\n",
      "\n"
     ]
    }
   ],
   "source": [
    "df_reviewer_reviewer_id.show(5)"
   ]
  },
  {
   "cell_type": "code",
   "execution_count": 50,
   "metadata": {
    "id": "-YVn_aD59I48"
   },
   "outputs": [],
   "source": [
    "df_asin_asin_idx = data_indexed.select('asin_idx', 'asin').distinct()"
   ]
  },
  {
   "cell_type": "code",
   "execution_count": 51,
   "metadata": {
    "id": "e7rJ23by9Je0"
   },
   "outputs": [
    {
     "data": {
      "text/plain": [
       "249274"
      ]
     },
     "execution_count": 51,
     "metadata": {},
     "output_type": "execute_result"
    }
   ],
   "source": [
    "df_asin_asin_idx.count()"
   ]
  },
  {
   "cell_type": "code",
   "execution_count": 52,
   "metadata": {
    "id": "kHtJHglP9Lg-"
   },
   "outputs": [
    {
     "name": "stdout",
     "output_type": "stream",
     "text": [
      "+--------+----------+\n",
      "|asin_idx|      asin|\n",
      "+--------+----------+\n",
      "|  7333.0|B000C2106E|\n",
      "| 17389.0|B000C214PQ|\n",
      "| 37191.0|B000C219N8|\n",
      "|150178.0|B000CD32K0|\n",
      "| 58321.0|B000CILIK6|\n",
      "+--------+----------+\n",
      "only showing top 5 rows\n",
      "\n"
     ]
    }
   ],
   "source": [
    "df_asin_asin_idx.show(5)"
   ]
  },
  {
   "cell_type": "code",
   "execution_count": 53,
   "metadata": {
    "id": "fu8sQdr89NwU"
   },
   "outputs": [],
   "source": [
    "new_user_recs = user_recs.join(df_reviewer_reviewer_id, on=['reviewerID_idx'], how='left')"
   ]
  },
  {
   "cell_type": "code",
   "execution_count": 54,
   "metadata": {
    "id": "SPb5jyt09P91",
    "scrolled": true
   },
   "outputs": [
    {
     "name": "stdout",
     "output_type": "stream",
     "text": [
      "+--------------+-----------------------------------------------------------------------------------------------------+--------------+\n",
      "|reviewerID_idx|recommendations                                                                                      |reviewerID    |\n",
      "+--------------+-----------------------------------------------------------------------------------------------------+--------------+\n",
      "|299           |[{60653, 6.206674}, {95432, 6.194054}, {64754, 5.942935}, {78772, 5.939616}, {108753, 5.925044}]     |ATV36X9V9DRB9 |\n",
      "|305           |[{110666, 7.772785}, {35186, 7.612976}, {37943, 7.585026}, {72394, 7.572181}, {46360, 7.561183}]     |A3UZ99BQWAJACU|\n",
      "|496           |[{35186, 7.5983624}, {88181, 7.5334196}, {65299, 7.497033}, {25761, 7.4778576}, {208458, 7.4149003}] |A2Q9KC6JXDG5JA|\n",
      "|558           |[{67353, 7.557464}, {67657, 7.3952146}, {103220, 7.352634}, {39316, 7.347481}, {48198, 7.3466105}]   |A2CHTRYAGL7P04|\n",
      "|596           |[{205491, 7.3536673}, {78161, 7.344131}, {89237, 7.3012757}, {108909, 7.1684723}, {88902, 7.1672926}]|A31U7U4P1GVOVP|\n",
      "+--------------+-----------------------------------------------------------------------------------------------------+--------------+\n",
      "only showing top 5 rows\n",
      "\n"
     ]
    }
   ],
   "source": [
    "new_user_recs.show(5, truncate=False)"
   ]
  },
  {
   "cell_type": "code",
   "execution_count": 55,
   "metadata": {
    "id": "2s5Y1kGO9S-0"
   },
   "outputs": [
    {
     "data": {
      "text/plain": [
       "1025426"
      ]
     },
     "execution_count": 55,
     "metadata": {},
     "output_type": "execute_result"
    }
   ],
   "source": [
    "new_user_recs.count()"
   ]
  },
  {
   "cell_type": "code",
   "execution_count": 56,
   "metadata": {
    "id": "HCAIaqNNMpE4"
   },
   "outputs": [],
   "source": [
    "# Change HDFS server\n",
    "new_user_recs.write.parquet('hdfs://172.24.40.247:19000/Beauty_U_N.parquet_1', mode='overwrite')\n",
    "df_asin_asin_idx.write.parquet('hdfs://172.24.40.247:19000/Beauty_P_N.parquet_1', mode='overwrite')"
   ]
  },
  {
   "cell_type": "code",
   "execution_count": 57,
   "metadata": {},
   "outputs": [],
   "source": [
    "sc.stop()"
   ]
  }
 ],
 "metadata": {
  "colab": {
   "collapsed_sections": [],
   "name": "Ex2_Recommendation_Project_Beauty_full_2.ipynb",
   "provenance": []
  },
  "kernelspec": {
   "display_name": "Python 3 (ipykernel)",
   "language": "python",
   "name": "python3"
  },
  "language_info": {
   "codemirror_mode": {
    "name": "ipython",
    "version": 3
   },
   "file_extension": ".py",
   "mimetype": "text/x-python",
   "name": "python",
   "nbconvert_exporter": "python",
   "pygments_lexer": "ipython3",
   "version": "3.8.8"
  }
 },
 "nbformat": 4,
 "nbformat_minor": 1
}
